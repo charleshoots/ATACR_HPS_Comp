{
 "cells": [
  {
   "cell_type": "markdown",
   "metadata": {},
   "source": [
    "This notebook will be a continuation of the original notebook to make it easier to navigate. Based on what was discussed/found/commented on, many of the figures in the original need to be re-built before continuing.\n",
    "\n",
    "I will summarize the issues and original figures below: \n",
    "\n",
    "Issues from original notebook: \n",
    "> ####  1. Unusual double peak in phase and amplitudes in admittance.\n",
    "> ####  2. Seismic spectra not consistent with OBSIC/MUSTANG.\n",
    "> ####  3. Pressure spectra not consistent with OBSIC."
   ]
  },
  {
   "cell_type": "markdown",
   "metadata": {},
   "source": [
    "> ####  Issue-1 Unusual double peak in phase and amplitudes in admittance.\n",
    "\n",
    "Below are the original figures that showed the issue with phase and admittance. While the original data shows this, I could not reproduce it when making "
   ]
  },
  {
   "cell_type": "markdown",
   "metadata": {},
   "source": [
    "# Figure: QC of station daily power specta used to make the station average \n",
    "# Red are bad days.\n",
    "![Figure](znb_images/7D.M07A.QC.png)"
   ]
  },
  {
   "cell_type": "markdown",
   "metadata": {},
   "source": [
    "# Figure: Station Averaged Coherence\n",
    "![Figure](znb_images/7D.M07A.av_coherence.png)"
   ]
  },
  {
   "cell_type": "markdown",
   "metadata": {},
   "source": [
    "# Figure: Station Averaged Admittance\n",
    "![Figure](znb_images/7D.M07A.av_admittance.png)"
   ]
  },
  {
   "cell_type": "markdown",
   "metadata": {},
   "source": [
    "# Figure: Station Averaged Phase\n",
    "![Figure](znb_images/7D.M07A.av_phase.png)"
   ]
  },
  {
   "cell_type": "markdown",
   "metadata": {},
   "source": [
    "[Following your comment in the cell above](https://app.reviewnb.com/charleshoots/ATACR_HPS_Comp/blob/main/Cookbook.ipynb/file/#comment-nb-9f36807f)"
   ]
  },
  {
   "cell_type": "code",
   "execution_count": null,
   "metadata": {
    "vscode": {
     "languageId": "plaintext"
    }
   },
   "outputs": [],
   "source": []
  },
  {
   "cell_type": "markdown",
   "metadata": {},
   "source": [
    "___\n",
    "## OBJECTIVE FOUR: Test the solution\n",
    "___\n",
    "Here, we see the ATaCR output for station average spectra (the QC plot) when re-running ATaCR (and clearing data archive in each run) for three different setups in the call to remove_response for the pressure channel.\n",
    "\n",
    "`[Note]` Each test below each use identical days as the original with a few more added as the bar for noise download after the original dataset was built was raised from 10 to 12.\n",
    "\n",
    "### Test designs\n",
    "`[Test-1]`:  Made by disabling the water-level approach in the instrument response removal aswell as forcing it to never add zeros to the poles (by setting output units equal to input units with output='DEF'). \n",
    "\n",
    "`[Test-2] and [Test-3]`: Made by running the two additional arguments (water_level=None, output='DEF') seperately in independent ATaCR runs. \n",
    "\n",
    "### Test results for station average spectra (below)\n",
    "`[Test-1]` This setup produces spectra well within the range of values we see in the reference stations above.\n",
    "\n",
    "`[Test-2] and [Test-3]`:This results in only minor dB changes that are just as inconsistent with the reference stations as the original is.\n",
    "___\n",
    "> ![Figure](znb_images/AVG.Spectra.Comparisons.png)\n",
    "\n"
   ]
  },
  {
   "cell_type": "markdown",
   "metadata": {},
   "source": [
    "[On your second comment in the cell above](https://app.reviewnb.com/charleshoots/ATACR_HPS_Comp/blob/main/Cookbook.ipynb/file/#comment-nb-23a217e0)"
   ]
  },
  {
   "cell_type": "markdown",
   "metadata": {},
   "source": [
    "___\n",
    "\n",
    "### Results on coherence, admittance, and phase: \n",
    "\n",
    "> Coherence: Appears less sensitive than the other two metrics to this change in instrument response, with the most obvious changes shown in only a few days with different coherence values around 10s period.\n",
    "\n",
    "> Admittance: Several magnitudes in changes are shown in admittance with any that were done against the pressure channel spectra (1P, 2P, and ZP). \n",
    "\n",
    "> Phase:  the phase is fundamentally different (fixed?) now in Test-1, lacking the double phase trends.\n",
    "\n",
    "### Broken down by tests:\n",
    "\n",
    "> **[Test-1]:** Just as with the average spectra tests above, Test-1 shows the greatest change in coherence, admittance, and phase.\n",
    "\n",
    "> **[Tests -2 and -3]:** Likewise, -2 and -3 are nearly identical output to eachother and show the least change in the three metrics. \n",
    ">> Though these two tests likely show the least agreement with the reference stations as pointed out above, these two tests also resulted in the removal of the double phase trend shown in the original ATaCR setup.\n",
    "\n",
    "`[Comment]`: It might help if I had the coherence/admittance outputs from the Matlab ATaCR to compare these tests. I will run ML-ATaCR if these tests still call for it.\n",
    " \n",
    "\n",
    "\n",
    "### Overall findings of solution testing: \n",
    "\n",
    "> Across all three tests we also see the irregular phase double trend removed.\n",
    "\n",
    "> Across all three tests we see the amount of days removed by the QC step (plotted in red) is now zero\n",
    "\n",
    "> In total, these tests seem to indicate that the ATaCR code needs to be changed to be consistent with the execution done in Test-1.\n",
    "___"
   ]
  },
  {
   "cell_type": "markdown",
   "metadata": {},
   "source": [
    "> ![Figure](znb_images/Original.Coh.Adm.Ph.png)\n",
    "___\n",
    "> ![Figure](znb_images/Test1.Coh.Adm.Ph.png)\n",
    "___\n",
    "> ![Figure](znb_images/Test2.Coh.Adm.Ph.png)\n",
    "___\n",
    "> ![Figure](znb_images/Test3.Coh.Adm.Ph.png)"
   ]
  },
  {
   "cell_type": "markdown",
   "metadata": {},
   "source": [
    "[On your third comment in the cell above](https://app.reviewnb.com/charleshoots/ATACR_HPS_Comp/blob/main/Cookbook.ipynb/file/#comment-nb-cedcb5a4)"
   ]
  },
  {
   "cell_type": "markdown",
   "metadata": {},
   "source": [
    "##### [Figure placeholder]\n",
    "<!-- # Figure: All Transfer Functions (daily and averaged) -->\n",
    "<!-- ![Figure](znb_images/7D.M07A.transfer_functions_Taper1.png) -->"
   ]
  },
  {
   "cell_type": "markdown",
   "metadata": {},
   "source": [
    "        2.3: atacr_correct_event | Correct the event for tilt and compliance noise."
   ]
  },
  {
   "cell_type": "markdown",
   "metadata": {},
   "source": [
    "> The final step in ATaCR is correcting the event. For this station-averaged correction, we use the ZP-21 transfer function. \n",
    "\n",
    "> After calculating the 4-component event spectra using fft (ftZ, ftP, ft1, and ftP),\n",
    "\n",
    "> The ZP-21 transfer function deconvolves tilt and compliance noise from the vertical event spectra (ftZ) as follow:\n",
    "\n",
    "Corrected = ftZ - TF_Z1*ft1  -  (ft2-ft1*TF_21)*TF_Z2_1  -  (ftP - ft1*TF_P1 -(ft2 - ft1*TF_21)*TF_P2_1)*TF_ZP_21\n",
    "\n",
    "> The corrected spectra is returned to the time-domain, plotted, and saved."
   ]
  },
  {
   "cell_type": "markdown",
   "metadata": {},
   "source": [
    "##### [Figure placeholder]\n",
    "# Figure: Corrected event traces plot by ATaCR \n",
    "## For the four transfer functions available to a station-averaged spectra.\n",
    "<!-- ![Figure](znb_images/7D.M07A.2012.181.21.07.sta_corrected.png) -->"
   ]
  },
  {
   "cell_type": "markdown",
   "metadata": {},
   "source": [
    "[On your fourth comment in the celll above](https://app.reviewnb.com/charleshoots/ATACR_HPS_Comp/blob/main/Cookbook.ipynb/file/#comment-nb-e92e9410)"
   ]
  },
  {
   "cell_type": "markdown",
   "metadata": {},
   "source": [
    "### `Phase Three: HPS Correction`"
   ]
  }
 ],
 "metadata": {
  "language_info": {
   "name": "python"
  }
 },
 "nbformat": 4,
 "nbformat_minor": 2
}
