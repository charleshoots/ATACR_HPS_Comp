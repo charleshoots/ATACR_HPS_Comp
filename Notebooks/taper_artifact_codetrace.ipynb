{
 "cells": [
  {
   "cell_type": "code",
   "execution_count": 1,
   "metadata": {},
   "outputs": [],
   "source": [
    "# ===================================================================================================\n",
    "# ============================================ IMPORTS ==============================================\n",
    "# ===================================================================================================\n",
    "\n",
    "import sys\n",
    "sys.path.insert(1,'/Users/charlesh/Documents/Codes/')\n",
    "sys.path.append('/Users/charlesh/Documents/Codes/OBS_Methods/NOISE/METHODS')\n",
    "sys.path.insert(0, '/Users/charlesh/Documents/Codes/OBS_Methods/NOISE/COMPS')\n",
    "sys.path.insert(0, '/Users/charlesh/Documents/Codes/OBS_Methods/NOISE/METHODS/ATaCR/ATaCR_Python/OBStools')\n",
    "sys.path.insert(0, '/Users/charlesh/Documents/Codes/OBS_Methods/NOISE/METHODS/ATaCR/ATaCR_Python')\n",
    "\n",
    "import math\n",
    "import scipy\n",
    "import numpy as np\n",
    "import librosa\n",
    "import os\n",
    "from scipy.signal import stft, detrend\n",
    "os.environ['PYDEVD_WARN_SLOW_RESOLVE_TIMEOUT'] = '2'\n",
    "from obspy import Trace\n",
    "import librosa.display\n",
    "import matplotlib.pyplot as plt\n",
    "import matplotlib.image as img\n",
    "import matplotlib.gridspec as gridspec\n",
    "import matplotlib\n",
    "import sys\n",
    "import obspy\n",
    "import pickle as pkl\n",
    "import glob as g\n",
    "from obspy.clients.fdsn import Client\n",
    "import datetime\n",
    "import re\n",
    "import math\n",
    "from numpy import linalg as eigen\n",
    "# import noisecut\n",
    "import matplotlib.colors as mcolors\n",
    "import matplotlib.cm as cm2\n",
    "from scipy.stats import norm\n",
    "import scipy.stats as stats\n",
    "from scipy import fft\n",
    "# import ntk\n",
    "from cmcrameri import cm\n",
    "from obspy import read\n",
    "from scipy.interpolate import RBFInterpolator, InterpolatedUnivariateSpline #<----Experimental\n",
    "\n",
    "import ObsQA\n",
    "import ObsQA as ob\n",
    "# from ObsQA.classes import OBSMetrics as OBSM\n",
    "# from ObsQA.plots import qtp\n",
    "from ObsQA import *\n",
    "OBSM = OBSMetrics\n",
    "import obstools as obs\n",
    "import cmath\n",
    "from comp_tools import *\n",
    "import ObsQA.metrics as metrics\n",
    "from pathlib import Path\n",
    "from scipy.signal import csd as _csd\n",
    "NoiseFolder = '/Users/charlesh/Documents/Codes/OBS_Methods/NOISE'\n",
    "CompFolder = NoiseFolder + '/COMPS/ATaCR_NC'\n",
    "MethodsFolder = NoiseFolder + '/METHODS/ATaCR'\n",
    "\n",
    "# ===================================================================================================\n",
    "# ============================================  LOAD DATA ===========================================\n",
    "# ===================================================================================================\n",
    "\n",
    "plotfolder = NoiseFolder + '/COMPS/FigureArchive/_GEN4'\n",
    "compfolder = CompFolder\n",
    "ATaCR_Py_DataFolder = ob.io.dir_libraries(MethodsFolder)[1]\n",
    "datafolder = ATaCR_Py_DataFolder['Py_DataParentFolder']\n",
    "eventsfolder = ATaCR_Py_DataFolder['Py_CorrectedTraces']\n",
    "catalog = pd.read_pickle(eventsfolder + '/event_catalog_updated.pkl')\n",
    "Station,evi = catalog.iloc[22],3\n",
    "Event = Station.Events[evi]\n",
    "catalog = pd.read_pickle('/Users/charlesh/Documents/Codes/OBS_Methods/NOISE/METHODS/ATaCR/ATaCR_Python/Metrics/EVENTS/EventMetrics_using_STA_avgTFs.pkl')\n",
    "def smooth(d,k=10):\n",
    "        return np.convolve(d, np.ones(k) / k, mode='same')\n",
    "def fnotch(d):\n",
    "        '''The frequency knotch root function described in Crawford et al., 1998.\n",
    "        depth (d) is in meters. Returned (f) is in Hz.'''\n",
    "        g = 9.80665\n",
    "        f = (g/(2*np.pi*d))**0.5\n",
    "        return f\n",
    "# ###===================================================================================================================================================================\n",
    "# ###===================================================================================================================================================================\n",
    "# ========================================================================================================================================================\n",
    "# ================================================================CODE SNIPPETS===========================================================================\n",
    "# ========================================================================================================================================================\n",
    "# for a in cm._cmap_names_categorical:\n",
    "#     display(cm.__dict__[a].resampled(4))\n",
    "# # ======================================================================================================================================================\n",
    "# # ======================================================================================================================================================\n",
    "# for (Event,Station,Metrics,Comp) in OBS_Generator(catalog,ATaCR_Py_DataFolder['Py_DataParentFolder']):\n",
    "#     print(Event)\n",
    "# for i,(Event,Station,Metrics,Comp) in zip(range(1),OBS_Generator(catalog,ATaCR_Py_DataFolder['Py_DataParentFolder'])):\n",
    "#     print(Event)\n",
    "# # ======================================================================================================================================================\n",
    "# # ======================================================================================================================================================"
   ]
  },
  {
   "cell_type": "markdown",
   "metadata": {},
   "source": [
    "## utils.get_event(eventpath, tstart, tend) is the function ATaCR uses directly to pull the pre-filtered event data for use in the script atacr_correct_event.py\n",
    "## atacr_correct_event.py is the Python equivelant to b4_correct_event.m in MATLAB\n",
    "\n",
    "### -- Let's first begin by seeing what the pre-filtered data looks like as it is pulled in to atacr_correct_event.py:"
   ]
  },
  {
   "cell_type": "code",
   "execution_count": 2,
   "metadata": {},
   "outputs": [
    {
     "data": {
      "text/html": [
       "\n",
       "            <style>\n",
       "                .geemap-dark {\n",
       "                    --jp-widgets-color: white;\n",
       "                    --jp-widgets-label-color: white;\n",
       "                    --jp-ui-font-color1: white;\n",
       "                    --jp-layout-color2: #454545;\n",
       "                    background-color: #383838;\n",
       "                }\n",
       "                    \n",
       "                .geemap-dark .jupyter-button {\n",
       "                    --jp-layout-color3: #383838;\n",
       "                }\n",
       "                \n",
       "                .geemap-colab {\n",
       "                    background-color: var(--colab-primary-surface-color, white);\n",
       "                }\n",
       "                    \n",
       "                .geemap-colab .jupyter-button {\n",
       "                    --jp-layout-color3: var(--colab-primary-surface-color, white);\n",
       "                }\n",
       "            </style>\n",
       "            "
      ],
      "text/plain": [
       "<IPython.core.display.HTML object>"
      ]
     },
     "metadata": {},
     "output_type": "display_data"
    },
    {
     "name": "stdout",
     "output_type": "stream",
     "text": [
      "7D.M08A | 17/38 | 1/4 : 2012.063.12.19\n",
      "7D.M08A | 17/38 | 2/4 : 2012.069.07.09\n",
      "7D.M08A | 17/38 | 3/4 : 2012.149.05.07\n",
      "7D.M08A | 17/38 | 4/4 : 2012.181.21.07\n"
     ]
    }
   ],
   "source": [
    "stas = ['M08A']\n",
    "for (Event,Station,Metrics,Comp) in OBS_Generator(catalog,ATaCR_Py_DataFolder['Py_DataParentFolder'],sta=stas):\n",
    "    pass\n",
    "\n",
    "time = [t.split(' ')[0] for t in Event.split('.')]\n",
    "tstart = UTCDateTime(year=int(time[0]),julday=int(time[1]),hour=int(time[2]),minute=int(time[3]))\n",
    "tend = tstart + 1\n",
    "eventpath = Path(ATaCR_Py_DataFolder['Py_CorrectedTraces'] + '/' + Station.StaName)\n",
    "\n",
    "trE1, trE2, trEZ, trEP = utils.get_event(eventpath, tstart, tend)"
   ]
  },
  {
   "cell_type": "markdown",
   "metadata": {},
   "source": [
    "### Here is the first 2,000 samples of a loaded event trace using this function.\n",
    "\n",
    "#### -----As you can see, this event file originally created by atacr_download_event.py (the Python equivelant of a3_download_event.m in MATLAB) is TAPERED.\n",
    "\n",
    "#### -----For more information on the exact pre-filt and taper used see line 643 in atacr_download_event.py aswell as the docs on Obspy.remove_response which does the prefilt and taper.\n",
    "\n",
    "https://docs.obspy.org/packages/autogen/obspy.core.trace.Trace.remove_response.html\n"
   ]
  },
  {
   "cell_type": "code",
   "execution_count": 20,
   "metadata": {},
   "outputs": [
    {
     "data": {
      "text/html": [
       "\n",
       "            <style>\n",
       "                .geemap-dark {\n",
       "                    --jp-widgets-color: white;\n",
       "                    --jp-widgets-label-color: white;\n",
       "                    --jp-ui-font-color1: white;\n",
       "                    --jp-layout-color2: #454545;\n",
       "                    background-color: #383838;\n",
       "                }\n",
       "                    \n",
       "                .geemap-dark .jupyter-button {\n",
       "                    --jp-layout-color3: #383838;\n",
       "                }\n",
       "                \n",
       "                .geemap-colab {\n",
       "                    background-color: var(--colab-primary-surface-color, white);\n",
       "                }\n",
       "                    \n",
       "                .geemap-colab .jupyter-button {\n",
       "                    --jp-layout-color3: var(--colab-primary-surface-color, white);\n",
       "                }\n",
       "            </style>\n",
       "            "
      ],
      "text/plain": [
       "<IPython.core.display.HTML object>"
      ]
     },
     "metadata": {},
     "output_type": "display_data"
    },
    {
     "data": {
      "text/plain": [
       "obspy.core.trace.Trace"
      ]
     },
     "execution_count": 20,
     "metadata": {},
     "output_type": "execute_result"
    }
   ],
   "source": [
    "obspy.Trace"
   ]
  },
  {
   "cell_type": "code",
   "execution_count": 21,
   "metadata": {},
   "outputs": [
    {
     "data": {
      "text/html": [
       "\n",
       "            <style>\n",
       "                .geemap-dark {\n",
       "                    --jp-widgets-color: white;\n",
       "                    --jp-widgets-label-color: white;\n",
       "                    --jp-ui-font-color1: white;\n",
       "                    --jp-layout-color2: #454545;\n",
       "                    background-color: #383838;\n",
       "                }\n",
       "                    \n",
       "                .geemap-dark .jupyter-button {\n",
       "                    --jp-layout-color3: #383838;\n",
       "                }\n",
       "                \n",
       "                .geemap-colab {\n",
       "                    background-color: var(--colab-primary-surface-color, white);\n",
       "                }\n",
       "                    \n",
       "                .geemap-colab .jupyter-button {\n",
       "                    --jp-layout-color3: var(--colab-primary-surface-color, white);\n",
       "                }\n",
       "            </style>\n",
       "            "
      ],
      "text/plain": [
       "<IPython.core.display.HTML object>"
      ]
     },
     "metadata": {},
     "output_type": "display_data"
    },
    {
     "data": {
      "text/plain": [
       "['__add__',\n",
       " '__class__',\n",
       " '__delattr__',\n",
       " '__dir__',\n",
       " '__div__',\n",
       " '__eq__',\n",
       " '__format__',\n",
       " '__ge__',\n",
       " '__getattribute__',\n",
       " '__getitem__',\n",
       " '__gt__',\n",
       " '__init__',\n",
       " '__init_subclass__',\n",
       " '__le__',\n",
       " '__len__',\n",
       " '__lt__',\n",
       " '__mod__',\n",
       " '__mul__',\n",
       " '__ne__',\n",
       " '__new__',\n",
       " '__nonzero__',\n",
       " '__reduce__',\n",
       " '__reduce_ex__',\n",
       " '__repr__',\n",
       " '__setattr__',\n",
       " '__sizeof__',\n",
       " '__str__',\n",
       " '__subclasshook__',\n",
       " '__truediv__',\n",
       " '_get_response',\n",
       " '_internal_add_processing_info',\n",
       " '_ltrim',\n",
       " '_repr_pretty_',\n",
       " '_rtrim',\n",
       " 'attach_response',\n",
       " 'copy',\n",
       " 'count',\n",
       " 'decimate',\n",
       " 'detrend',\n",
       " 'differentiate',\n",
       " 'filter',\n",
       " 'get_id',\n",
       " 'integrate',\n",
       " 'interpolate',\n",
       " 'max',\n",
       " 'normalize',\n",
       " 'plot',\n",
       " 'remove_response',\n",
       " 'remove_sensitivity',\n",
       " 'resample',\n",
       " 'simulate',\n",
       " 'slice',\n",
       " 'slide',\n",
       " 'spectrogram',\n",
       " 'split',\n",
       " 'std',\n",
       " 'taper',\n",
       " 'times',\n",
       " 'trigger',\n",
       " 'trim',\n",
       " 'verify',\n",
       " 'write']"
      ]
     },
     "execution_count": 21,
     "metadata": {},
     "output_type": "execute_result"
    }
   ],
   "source": [
    "[func for func in dir(obspy.Trace) if callable(getattr(obspy.Trace, func))]"
   ]
  },
  {
   "cell_type": "code",
   "execution_count": 27,
   "metadata": {},
   "outputs": [
    {
     "data": {
      "text/html": [
       "\n",
       "            <style>\n",
       "                .geemap-dark {\n",
       "                    --jp-widgets-color: white;\n",
       "                    --jp-widgets-label-color: white;\n",
       "                    --jp-ui-font-color1: white;\n",
       "                    --jp-layout-color2: #454545;\n",
       "                    background-color: #383838;\n",
       "                }\n",
       "                    \n",
       "                .geemap-dark .jupyter-button {\n",
       "                    --jp-layout-color3: #383838;\n",
       "                }\n",
       "                \n",
       "                .geemap-colab {\n",
       "                    background-color: var(--colab-primary-surface-color, white);\n",
       "                }\n",
       "                    \n",
       "                .geemap-colab .jupyter-button {\n",
       "                    --jp-layout-color3: var(--colab-primary-surface-color, white);\n",
       "                }\n",
       "            </style>\n",
       "            "
      ],
      "text/plain": [
       "<IPython.core.display.HTML object>"
      ]
     },
     "metadata": {},
     "output_type": "display_data"
    },
    {
     "data": {
      "text/plain": [
       "         network: 7D\n",
       "         station: M08A\n",
       "        location: Raw\n",
       "         channel: BHZ\n",
       "       starttime: 2012-06-29T21:07:32.950000Z\n",
       "         endtime: 2012-06-29T23:07:32.750000Z\n",
       "   sampling_rate: 5.0\n",
       "           delta: 0.2\n",
       "            npts: 36000\n",
       "           calib: 1.0\n",
       "         _format: SAC\n",
       "             sac: AttribDict({'delta': 0.2, 'depmin': -3.6725385e-05, 'depmax': 3.8246148e-05, 'b': 0.0, 'e': 7199.8003, 'stla': 44.1187, 'stlo': -124.8953, 'stel': -0.1264, 'evla': 43.4335, 'evlo': 84.6125, 'dist': 9874.362, 'az': 20.69645, 'baz': 339.05475, 'gcarc': 88.80228, 'depmen': 2.714333e-09, 'nzyear': 2012, 'nzjday': 181, 'nzhour': 21, 'nzmin': 7, 'nzsec': 32, 'nzmsec': 950, 'nvhdr': 6, 'npts': 36000, 'iftype': 1, 'leven': 1, 'lpspol': 0, 'lovrok': 1, 'lcalda': 1, 'kstnm': 'M08A', 'kcmpnm': 'BHZ', 'knetwk': '7D'})"
      ]
     },
     "execution_count": 27,
     "metadata": {},
     "output_type": "execute_result"
    }
   ],
   "source": [
    "Comp['d'].Raw[0]['trZ'].stats"
   ]
  },
  {
   "cell_type": "code",
   "execution_count": 18,
   "metadata": {},
   "outputs": [
    {
     "data": {
      "text/html": [
       "\n",
       "            <style>\n",
       "                .geemap-dark {\n",
       "                    --jp-widgets-color: white;\n",
       "                    --jp-widgets-label-color: white;\n",
       "                    --jp-ui-font-color1: white;\n",
       "                    --jp-layout-color2: #454545;\n",
       "                    background-color: #383838;\n",
       "                }\n",
       "                    \n",
       "                .geemap-dark .jupyter-button {\n",
       "                    --jp-layout-color3: #383838;\n",
       "                }\n",
       "                \n",
       "                .geemap-colab {\n",
       "                    background-color: var(--colab-primary-surface-color, white);\n",
       "                }\n",
       "                    \n",
       "                .geemap-colab .jupyter-button {\n",
       "                    --jp-layout-color3: var(--colab-primary-surface-color, white);\n",
       "                }\n",
       "            </style>\n",
       "            "
      ],
      "text/plain": [
       "<IPython.core.display.HTML object>"
      ]
     },
     "metadata": {},
     "output_type": "display_data"
    },
    {
     "data": {
      "text/plain": [
       "7D.M08A.Raw.BDH | 2012-06-29T21:07:32.950000Z - 2012-06-29T23:07:32.750000Z | 5.0 Hz, 36000 samples"
      ]
     },
     "execution_count": 18,
     "metadata": {},
     "output_type": "execute_result"
    }
   ],
   "source": [
    "Comp['d'].Raw[0]['trP']"
   ]
  },
  {
   "cell_type": "code",
   "execution_count": 1,
   "metadata": {},
   "outputs": [
    {
     "ename": "NameError",
     "evalue": "name 'trEZ' is not defined",
     "output_type": "error",
     "traceback": [
      "\u001b[0;31m---------------------------------------------------------------------------\u001b[0m",
      "\u001b[0;31mNameError\u001b[0m                                 Traceback (most recent call last)",
      "Input \u001b[0;32mIn [1]\u001b[0m, in \u001b[0;36m<cell line: 1>\u001b[0;34m()\u001b[0m\n\u001b[0;32m----> 1\u001b[0m tr \u001b[38;5;241m=\u001b[39m \u001b[43mtrEZ\u001b[49m[\u001b[38;5;241m0\u001b[39m]\n\u001b[1;32m      2\u001b[0m \u001b[38;5;66;03m# plt.figure(figsize=(20,4))\u001b[39;00m\n\u001b[1;32m      3\u001b[0m fig,ax \u001b[38;5;241m=\u001b[39m plt\u001b[38;5;241m.\u001b[39msubplots(\u001b[38;5;241m2\u001b[39m,\u001b[38;5;241m1\u001b[39m,figsize\u001b[38;5;241m=\u001b[39m(\u001b[38;5;241m25\u001b[39m,\u001b[38;5;241m9\u001b[39m))\n",
      "\u001b[0;31mNameError\u001b[0m: name 'trEZ' is not defined"
     ]
    }
   ],
   "source": [
    "tr = trEZ[0]\n",
    "# plt.figure(figsize=(20,4))\n",
    "fig,ax = plt.subplots(2,1,figsize=(25,9))\n",
    "ax[0].plot(tr.data)\n",
    "ax[0].set_xlim(0,len(tr.data))\n",
    "taper_line = len(tr.data)*0.05\n",
    "ax[0].axvline(taper_line,c='r',ls=':')\n",
    "ax[1].plot(tr.data)\n",
    "ax[1].axvline(taper_line,c='r',ls=':')\n",
    "ax[1].set_xlim(0,10000)\n",
    "plt.xlabel('samples')"
   ]
  },
  {
   "cell_type": "markdown",
   "metadata": {},
   "source": [
    "### For reference, here is my analysis code pulling in the same event data. They both pull the exact same files in every way."
   ]
  },
  {
   "cell_type": "code",
   "execution_count": null,
   "metadata": {},
   "outputs": [],
   "source": [
    "tr = Comp['d'].Raw[0]['trZ']\n",
    "fig,ax = plt.subplots(2,1,figsize=(25,9))\n",
    "ax[0].plot(tr.data)\n",
    "ax[0].set_xlim(0,len(tr.data))\n",
    "taper_line = len(tr.data)*0.05\n",
    "ax[0].axvline(taper_line,c='r',ls=':')\n",
    "ax[1].plot(tr.data)\n",
    "ax[1].axvline(taper_line,c='r',ls=':')\n",
    "ax[1].set_xlim(0,10000)\n",
    "plt.xlabel('samples')"
   ]
  },
  {
   "cell_type": "markdown",
   "metadata": {},
   "source": [
    "### Now let's directly load the CORRECTED event file SAVED BY ATACR's atacr_correct_event.py\n",
    "\n",
    "### As you can see, it seems like it is the act of correcting the trace in atacr_correct_event.py that is creating this filter artifact at the start/end of traces appearing as if they were never tapered."
   ]
  },
  {
   "cell_type": "code",
   "execution_count": null,
   "metadata": {},
   "outputs": [],
   "source": [
    "fn = self.fnotch(abs(self.trZ.stats.sac.stel)*1000) #Assumes sac elevation was given in km.\n",
    "\n",
    "# comp_tf_taper = 1\n",
    "# tilt_tf_taper = 1\n",
    "comp_tf_taper = self.calc_tf_taper(f,fn)\n",
    "tilt_tf_taper = self.calc_tf_taper(f,fn)\n",
    "\n",
    "comp_tf_taper = self.calc_tf_taper(f,1/10)\n",
    "tilt_tf_taper = self.calc_tf_taper(f,1/10)\n",
    "\n",
    "comp_tf_taper = self.calc_tf_taper(f,fn)\n",
    "tilt_tf_taper = self.calc_tf_taper(f,1/10)\n",
    "self.frequency_notch = fn\n",
    "self.comp_tf_taper = comp_tf_taper\n",
    "self.tilt_tf_taper = tilt_tf_taper"
   ]
  },
  {
   "cell_type": "code",
   "execution_count": 96,
   "metadata": {},
   "outputs": [
    {
     "data": {
      "text/html": [
       "\n",
       "            <style>\n",
       "                .geemap-dark {\n",
       "                    --jp-widgets-color: white;\n",
       "                    --jp-widgets-label-color: white;\n",
       "                    --jp-ui-font-color1: white;\n",
       "                    --jp-layout-color2: #454545;\n",
       "                    background-color: #383838;\n",
       "                }\n",
       "                    \n",
       "                .geemap-dark .jupyter-button {\n",
       "                    --jp-layout-color3: #383838;\n",
       "                }\n",
       "                \n",
       "                .geemap-colab {\n",
       "                    background-color: var(--colab-primary-surface-color, white);\n",
       "                }\n",
       "                    \n",
       "                .geemap-colab .jupyter-button {\n",
       "                    --jp-layout-color3: var(--colab-primary-surface-color, white);\n",
       "                }\n",
       "            </style>\n",
       "            "
      ],
      "text/plain": [
       "<IPython.core.display.HTML object>"
      ]
     },
     "metadata": {},
     "output_type": "display_data"
    },
    {
     "data": {
      "text/plain": [
       "[<matplotlib.lines.Line2D at 0x7fc92f1cd940>]"
      ]
     },
     "execution_count": 96,
     "metadata": {},
     "output_type": "execute_result"
    },
    {
     "data": {
      "image/png": "[encoded data removed]",
      "text/plain": [
       "<Figure size 640x480 with 1 Axes>"
      ]
     },
     "metadata": {},
     "output_type": "display_data"
    }
   ],
   "source": [
    "tfaverage = pd.read_pickle('/Users/charlesh/Documents/Codes/OBS_Methods/NOISE/METHODS/ATaCR/ATaCR_Python/TF_STA/7D.M08A/2011.293-2012.200.transfunc.pkl')\n",
    "tr.correct_data(tfaverage)\n",
    "\n",
    "# tr.fn\n",
    "# tr.__dict__\n",
    "# tr.frequency_notch\n",
    "\n",
    "plt.plot(tr.comp_tf_taper)"
   ]
  },
  {
   "cell_type": "code",
   "execution_count": 93,
   "metadata": {},
   "outputs": [
    {
     "data": {
      "text/html": [
       "\n",
       "            <style>\n",
       "                .geemap-dark {\n",
       "                    --jp-widgets-color: white;\n",
       "                    --jp-widgets-label-color: white;\n",
       "                    --jp-ui-font-color1: white;\n",
       "                    --jp-layout-color2: #454545;\n",
       "                    background-color: #383838;\n",
       "                }\n",
       "                    \n",
       "                .geemap-dark .jupyter-button {\n",
       "                    --jp-layout-color3: #383838;\n",
       "                }\n",
       "                \n",
       "                .geemap-colab {\n",
       "                    background-color: var(--colab-primary-surface-color, white);\n",
       "                }\n",
       "                    \n",
       "                .geemap-colab .jupyter-button {\n",
       "                    --jp-layout-color3: var(--colab-primary-surface-color, white);\n",
       "                }\n",
       "            </style>\n",
       "            "
      ],
      "text/plain": [
       "<IPython.core.display.HTML object>"
      ]
     },
     "metadata": {},
     "output_type": "display_data"
    },
    {
     "data": {
      "text/plain": [
       "PosixPath('/Users/charlesh/Documents/Codes/OBS_Methods/NOISE/METHODS/ATaCR/ATaCR_Python/EVENTS/7D.M08A/CORRECTED/7D.M08A.2012.181.21.07.sta.pkl')"
      ]
     },
     "metadata": {},
     "output_type": "display_data"
    }
   ],
   "source": [
    "# tr = read(corrected_event_file)\n",
    "# tr.__dict__\n",
    "display(pkl_corrected_event_file)\n",
    "tr = pd.read_pickle(pkl_corrected_event_file)\n",
    "# tr.frequency_notch"
   ]
  },
  {
   "cell_type": "code",
   "execution_count": null,
   "metadata": {},
   "outputs": [],
   "source": [
    "avg = 'sta'\n",
    "# tf = 'ZP'\n",
    "for tf in ['ZP-H','ZP-21','Z1','Z2-1','ZP']:\n",
    "    if tf=='ZP-H':\n",
    "        avg = 'day'\n",
    "    else:\n",
    "        avg = 'sta'\n",
    "    corrected_event_path = eventpath / 'CORRECTED'\n",
    "    sacfile = Station.StaName + '.' + str(tstart.year) + '.' + str(tstart.julday) + '.' + str(tstart.hour) + '.' + str(tstart.minute).zfill(2) + '.' + avg + '.' + tf + '.BHZ.SAC'\n",
    "    pklfile = Station.StaName + '.' + str(tstart.year) + '.' + str(tstart.julday) + '.' + str(tstart.hour) + '.' + str(tstart.minute).zfill(2) + '.' + avg + '.pkl'\n",
    "    sac_corrected_event_file = corrected_event_path / sacfile\n",
    "    pkl_corrected_event_file = corrected_event_path / pklfile\n",
    "    print(corrected_event_file)\n",
    "\n",
    "    tr = read(corrected_event_file)[0]\n",
    "\n",
    "    fig = plt.figure(figsize=(20,4))\n",
    "    plt.plot(tr.data)\n",
    "    plt.title(tf,fontweight='bold')\n",
    "    fig.suptitle(sacfile)\n",
    "    plt.xlabel('samples')\n",
    "    # plt.xlim(0,5000)"
   ]
  },
  {
   "cell_type": "markdown",
   "metadata": {},
   "source": [
    "## To see the actual correction applied to the pre-filt event data, see lines 1993-2067 of ATaCR's EventStream class.\n",
    "\n",
    "### --I've copied that section of the event correction code below so you can see it."
   ]
  },
  {
   "cell_type": "markdown",
   "metadata": {},
   "source": [
    "## Let's confirm this taper another way by downloading the exact same trace again from IRIS and applying the pre-processing ourselves."
   ]
  },
  {
   "cell_type": "markdown",
   "metadata": {},
   "source": [
    "#### --Download data"
   ]
  },
  {
   "cell_type": "code",
   "execution_count": null,
   "metadata": {},
   "outputs": [],
   "source": [
    "client = Client()\n",
    "net = '7D'\n",
    "sta = 'M08A'\n",
    "channel = 'BH1,BH2,BHZ'\n",
    "start = UTCDateTime('2012-06-29T21:07:32.950000Z')\n",
    "end = UTCDateTime('2012-06-29T23:07:32.750000Z')\n",
    "\n",
    "#iris is forcing a 10 sample buffer on my requested times\n",
    "start = trEZ[0].stats.starttime - 5/50\n",
    "end = trEZ[0].stats.endtime + 5/50\n",
    "downloaded_tr = client.get_waveforms(network=net, station=sta, location = '*',channel=channel,starttime=start, endtime=end, attach_response=True)"
   ]
  },
  {
   "cell_type": "markdown",
   "metadata": {},
   "source": [
    "### --Perform proecessing which includes, in order:\n",
    "## 1. De-mean\n",
    "## 2. Detrend\n",
    "## 3. Anti-alias filter\n",
    "## 4. Decimate to new samplerate\n",
    "## 5. Remove instrument response which includes:\n",
    "###   -Four corner bandpass at [0.001, 0.005, 45., 50.] done with the deconvolution\n",
    "####   -De-mean\n",
    "####   -5% Hanning Taper\n",
    "####   -Deconvolution of instrument response\n"
   ]
  },
  {
   "cell_type": "code",
   "execution_count": null,
   "metadata": {},
   "outputs": [],
   "source": [
    "tr_copy = downloaded_tr.select(component='Z')[0].copy()\n",
    "pre_filt = [0.001, 0.005, 45., 50.]\n",
    "new_sampling_rate = 5\n",
    "\n",
    "\n",
    "# Detrend, filter\n",
    "tr_test_preproc = tr_copy.copy()\n",
    "tr_test_preproc.detrend('demean')\n",
    "tr_test_preproc.detrend('linear')\n",
    "tr_test_preproc.filter('lowpass', freq=0.5*new_sampling_rate,corners=2, zerophase=True) #anti-alias filter\n",
    "tr_test_preproc.resample(new_sampling_rate)\n",
    "\n",
    "# Remove IR\n",
    "tr_test_response_removal = tr_test_preproc.copy()\n",
    "tr_test_response_removal.remove_response(pre_filt=pre_filt,output='DISP')\n",
    "\n",
    "tr_test_NO_response_removal = tr_test_preproc.copy()\n",
    "tr_test_NO_response_removal.remove_response(pre_filt=pre_filt,output='DISP',taper=False,zero_mean=True)\n",
    "\n",
    "fig,ax = plt.subplots(2,1,figsize=(20,10))\n",
    "ax[0].plot(tr_test_NO_response_removal.data,label='Response removed WITHOUT taper',c='r')\n",
    "ax[0].plot(tr_test_response_removal.data,label='Response removed WITH taper',c='b')\n",
    "taper_line = len(tr_test_response_removal.data)*0.05\n",
    "ax[0].axvline(taper_line,c='r',ls=':')\n",
    "ax[0].set_xlabel('Samples')\n",
    "ax[0].set_xlim(0,len(tr_test_response_removal))\n",
    "ax[0].legend()\n",
    "\n",
    "ax[1].plot(tr_test_NO_response_removal.data,label='Response removed WITHOUT taper',c='r')\n",
    "ax[1].plot(tr_test_response_removal.data,label='Response removed WITH taper',c='b')\n",
    "taper_line = len(tr_test_response_removal.data)*0.05\n",
    "ax[1].axvline(taper_line,c='r',ls=':')\n",
    "ax[1].set_xlabel('Zoomed in')\n",
    "ax[1].set_xlim(0,10000)\n",
    "ax[1].legend()"
   ]
  },
  {
   "cell_type": "markdown",
   "metadata": {},
   "source": [
    "## So the event was tapered/pre-proc correctly. Was the noise?"
   ]
  },
  {
   "cell_type": "code",
   "execution_count": null,
   "metadata": {},
   "outputs": [],
   "source": [
    "NoiseFile = '/Users/charlesh/Documents/Codes/OBS_Methods/NOISE/METHODS/ATaCR/ATaCR_Python/Data/7D.M08A/2012.181..BHZ.SAC'\n",
    "\n",
    "print(NoiseFile)\n",
    "\n",
    "tr = read(NoiseFile)[0]\n",
    "\n",
    "fig = plt.figure(figsize=(20,4))\n",
    "plt.plot(tr.data)\n",
    "fig.suptitle(NoiseFile)\n",
    "plt.xlabel('samples')"
   ]
  },
  {
   "cell_type": "markdown",
   "metadata": {},
   "source": [
    "## The noise SAC files look tapered by ATaCR. I don't trust it though because I know ATaCR holds the noise in multiple formats, specfically day and sta averaged spectra.\n",
    "\n",
    "## Let's start by looking at the spectra for a day used in the corrected event (above)."
   ]
  },
  {
   "cell_type": "code",
   "execution_count": null,
   "metadata": {},
   "outputs": [],
   "source": []
  },
  {
   "cell_type": "code",
   "execution_count": null,
   "metadata": {},
   "outputs": [],
   "source": [
    "def calc_tf_taper(f,fn,exp=20):\n",
    "    taper = (np.abs(f) - fn)\n",
    "    taper = -taper + np.max(taper)\n",
    "    taper = taper**exp\n",
    "    taper[np.abs(f)<=fn] = 0\n",
    "    taper[np.abs(f)<=fn] = np.max(taper)\n",
    "    taper = taper/taper.max()\n",
    "    return taper\n",
    "def fnotch(d):\n",
    "        '''The frequency knotch root function described in Crawford et al., 1998.\n",
    "        depth (d) is in meters. Returned (f) is in Hz.'''\n",
    "        g = 9.80665\n",
    "        f = (g/(2*np.pi*d))**0.5\n",
    "        return f"
   ]
  },
  {
   "cell_type": "code",
   "execution_count": null,
   "metadata": {},
   "outputs": [],
   "source": [
    "fn = fnotch(Station.Water_Depth_m)\n",
    "\n",
    "taper = calc_tf_taper(f,fn)\n",
    "\n",
    "plt.figure(figsize=(20,4))\n",
    "plt.axvline(fn,c='k',ls=':')\n",
    "plt.axvline(-fn,c='k',ls=':')\n",
    "plt.plot(f[np.argsort(f)],taper[np.argsort(f)])"
   ]
  },
  {
   "cell_type": "code",
   "execution_count": null,
   "metadata": {},
   "outputs": [],
   "source": []
  },
  {
   "cell_type": "code",
   "execution_count": null,
   "metadata": {},
   "outputs": [],
   "source": [
    "from obspy.signal.invsim import cosine_taper\n",
    "\n",
    "f = tfs.f\n",
    "fcut = np.array(np.array(f>=fn) & np.array(f>=0)) + np.array(np.array(f<=-fn) & np.array(f<0))\n",
    "fkeep = np.where(~fcut)[0]\n",
    "fcut = np.where(fcut)[0]\n",
    "# len(np.where(fi))"
   ]
  },
  {
   "cell_type": "code",
   "execution_count": null,
   "metadata": {},
   "outputs": [],
   "source": [
    "DayNoise_SpectraFile = Path('/Users/charlesh/Documents/Codes/OBS_Methods/NOISE/METHODS/ATaCR/ATaCR_Python/SPECTRA/7D.M08A/2012.181.spectra.pkl')\n",
    "\n",
    "S = pd.read_pickle(DayNoise_SpectraFile)\n",
    "fig,ax = plt.subplots(1,1,figsize=(20,9),sharex='all')\n",
    "ax = [ax]\n",
    "x = S.f\n",
    "\n",
    "[ax[0].plot(x,y/y.max()) for y in S.ftZ]\n",
    "\n",
    "ax[0].set_xlabel('Hz',fontweight='bold')\n",
    "fig.suptitle('/'.join(str(DayNoise_SpectraFile).split('/')[-4:]),y=0.91)\n",
    "\n",
    "\n",
    "fn = fnotch(Station.Water_Depth_m)\n",
    "\n",
    "taper = calc_tf_taper(f,fn,exp=100)\n",
    "\n",
    "# plt.figure(figsize=(20,4))\n",
    "ax[0].axvline(fn,c='k',ls=':')\n",
    "ax[0].axvline(-fn,c='k',ls=':')\n",
    "ax[0].plot(f[np.argsort(f)],taper[np.argsort(f)])\n",
    "ax[0].set_xscale('log')"
   ]
  },
  {
   "cell_type": "code",
   "execution_count": null,
   "metadata": {},
   "outputs": [],
   "source": [
    "y[0:-10].max()"
   ]
  },
  {
   "cell_type": "code",
   "execution_count": null,
   "metadata": {},
   "outputs": [],
   "source": [
    "tfs = pd.read_pickle('/Users/charlesh/Documents/Codes/OBS_Methods/NOISE/METHODS/ATaCR/ATaCR_Python/TF_STA/7D.M08A/2011.293-2012.200.transfunc.pkl')\n",
    "\n",
    "keys = list(tfs.transfunc['ZP-21'].keys())\n",
    "fig,ax = plt.subplots(len(keys),1,figsize=(14,12),sharex='all')\n",
    "for ki,key in enumerate(keys):\n",
    "    x = tfs.f\n",
    "    taper = calc_tf_taper(f,fn,exp=100)\n",
    "    y = tfs.transfunc['ZP-21'][key]\n",
    "    y_pre = tfs.transfunc['ZP-21'][key]\n",
    "    y_pre = y_pre/np.abs(y_pre)[100:-100].max()\n",
    "    y = y/np.abs(y)[100:-100].max()\n",
    "    y_pre = y_pre[x>0]\n",
    "    y = y*taper\n",
    "    y = y[x>0]\n",
    "    x = x[x>0]\n",
    "    ax[ki].plot(x,y_pre,label=key + ' (before)',c='k')\n",
    "    ax[ki].plot(x,y,label=key + ' (after)',c='r')\n",
    "    ax[ki].axvline(fn,label='Fq Notch',ls='-.',c='k',alpha = 0.4)\n",
    "    ax[ki].set_xlim(x[1],2.65)\n",
    "    ax[ki].set_xscale('log')\n",
    "    ax[ki].plot(f[np.argsort(f)],taper[np.argsort(f)],label='Taper')\n",
    "    ax[ki].legend(fontsize=9,loc='upper left')\n",
    "    if ki==0:\n",
    "        ax[ki].set_title('All Functions Normalized',fontweight='bold')\n",
    "fig.suptitle('Transfer Functions used in ZP-21 corrections (Station Averaged)',fontweight='bold',fontsize=15,y=0.93)\n",
    "ax[-1].set_xlabel('Hz (log scale)',fontweight='bold',fontsize=15)"
   ]
  },
  {
   "cell_type": "code",
   "execution_count": null,
   "metadata": {},
   "outputs": [],
   "source": [
    "sta_avg_StaNoise = '/Users/charlesh/Documents/Codes/OBS_Methods/NOISE/METHODS/ATaCR/ATaCR_Python/AVG_STA/7D.M08A/2011.293-2012.200.avg_sta.pkl'\n",
    "stnoise = pd.read_pickle(sta_avg_StaNoise)\n",
    "TFN = TFNoise(stnoise)\n",
    "TFN.transfer_func()\n",
    "\n",
    "x = TFN.f\n",
    "c = ['c1Z','c2Z','c1P','c2P','cZP','c11','c12','c22','cPP']\n",
    "fig,ax = plt.subplots(len(c),1,figsize=(25,12),sharex='all')\n",
    "for ki,key in enumerate(c):\n",
    "    y = np.real(TFN.__dict__[key])\n",
    "    ax[ki].plot(x[x>0],y[x>0],label=key)\n",
    "    ax[ki].legend(fontsize=15,loc='upper left')\n",
    "    # ax[ki].set_xlim(right=x[x>=0][-1])\n",
    "    ax[ki].set_xscale('log')\n",
    "ax[ki].set_xlabel('Hz (log scale)',fontweight='bold',fontsize=15)\n",
    "fig.suptitle('Station Avg Cross-Spectral Densities',fontweight='bold',y=0.9)"
   ]
  },
  {
   "cell_type": "code",
   "execution_count": null,
   "metadata": {},
   "outputs": [],
   "source": [
    "# elif key == 'ZP-21':\n",
    "#     if value:\n",
    "#         lc1cZ = np.conj(self.c1Z)/self.c11\n",
    "#         lc1c2 = np.conj(self.c12)/self.c11\n",
    "#         lc1cP = np.conj(self.c1P)/self.c11\n",
    "\n",
    "#         coh_12 = utils.coherence(self.c12, self.c11, self.c22)\n",
    "#         coh_1P = utils.coherence(self.c1P, self.c11, self.cPP)\n",
    "\n",
    "#         gc2c2_c1 = self.c22*(1. - coh_12)\n",
    "#         gcPcP_c1 = self.cPP*(1. - coh_1P)\n",
    "\n",
    "#         gc2cZ_c1 = np.conj(self.c2Z) - np.conj(lc1c2*self.c1Z)\n",
    "#         gcPcZ_c1 = self.cZP - np.conj(lc1cP*self.c1Z)\n",
    "\n",
    "#         gc2cP_c1 = np.conj(self.c2P) - np.conj(lc1c2*self.c1P)\n",
    "\n",
    "#         lc2cP_c1 = gc2cP_c1/gc2c2_c1\n",
    "#         lc2cZ_c1 = gc2cZ_c1/gc2c2_c1\n",
    "\n",
    "#         coh_c2cP_c1 = utils.coherence(gc2cP_c1, gc2c2_c1,gcPcP_c1)\n",
    "\n",
    "#         gcPcP_c1c2 = gcPcP_c1*(1. - coh_c2cP_c1)\n",
    "#         gcPcZ_c1c2 = gcPcZ_c1 - np.conj(lc2cP_c1)*gc2cZ_c1\n",
    "\n",
    "#         lcPcZ_c2c1 = gcPcZ_c1c2/gcPcP_c1c2\n",
    "\n",
    "#         tf_ZP_21 = {'TF_Z1': lc1cZ, 'TF_21': lc1c2,\n",
    "#                     'TF_P1': lc1cP, 'TF_P2-1': lc2cP_c1,\n",
    "#                     'TF_Z2-1': lc2cZ_c1, 'TF_ZP-21': lcPcZ_c2c1}\n",
    "#         transfunc.add('ZP-21', tf_ZP_21)"
   ]
  }
 ],
 "metadata": {
  "kernelspec": {
   "display_name": "Seismic_Noise_Data_Obspy_ML_NN",
   "language": "python",
   "name": "python3"
  },
  "language_info": {
   "codemirror_mode": {
    "name": "ipython",
    "version": 3
   },
   "file_extension": ".py",
   "mimetype": "text/x-python",
   "name": "python",
   "nbconvert_exporter": "python",
   "pygments_lexer": "ipython3",
   "version": "3.8.16"
  }
 },
 "nbformat": 4,
 "nbformat_minor": 2
}
