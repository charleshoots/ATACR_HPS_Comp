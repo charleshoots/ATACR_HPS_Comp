{
 "cells": [
  {
   "cell_type": "code",
   "execution_count": 1,
   "metadata": {},
   "outputs": [],
   "source": [
    "# from obspy.core import read, Stream, Trace, AttribDict, UTCDateTime\n",
    "# from obspy.clients.fdsn import Client\n",
    "# import os\n",
    "# import argparse\n",
    "import obspy\n",
    "# import obstools as obs\n",
    "# from obspy import taup\n",
    "# from obstools.atacr import DayNoise, TFNoise, EventStream, StaNoise, utils\n",
    "# import obstools.atacr.plotting as atplot\n",
    "# from obstools.scripts import comply_calculate, atacr_clean_spectra, atacr_correct_event, atacr_daily_spectra, atacr_download_data, atacr_download_event, atacr_transfer_functions\n",
    "# from stdb.scripts import query_fdsn_stdb\n",
    "# import matplotlib.pyplot as plt\n",
    "# import gc\n",
    "# import fnmatch\n",
    "# ------------------------------------------------------------------------------------------------------------------------\n",
    "from pathlib import Path\n",
    "project_path = Path('/Users/charlesh/Documents/Codes/OBS_Methods/NOISE/ATACR_HPS_Comp')\n",
    "import shutil\n",
    "import numpy as np\n",
    "import pandas as pd\n",
    "import sys\n",
    "sys.path.append(str(project_path / 'Packages'))\n",
    "sys.path.insert(0, str(project_path / 'Packages' / 'ATaCR'))\n",
    "sys.path.insert(0, str(project_path / 'Packages' / 'CompCode'))\n",
    "sys.path.insert(0, str(project_path / 'Packages' / 'ATaCR'/ 'OBStools'))\n",
    "import ObsQA\n",
    "from comp_tools import *\n",
    "\n",
    "\n",
    "# ------------------------------------------------------------------------------------------------------------------------\n",
    "\n",
    "\n",
    "# ---------------------------------------------------------------------------------------------------\n",
    "# ============================================ FOLDERS ===========================================\n",
    "# ---------------------------------------------------------------------------------------------------\n",
    "project_path = Path('/Users/charlesh/Documents/Codes/OBS_Methods/NOISE/ATACR_HPS_Comp')\n",
    "ATaCR_DataFolder = str(project_path / '_DataArchive' / 'ATaCR_Data')\n",
    "\n",
    "dirs = OBS.TOOLS.io.dir_libraries(ATaCR_DataFolder)[1]\n",
    "datafolder = dirs['Py_DataParentFolder']\n",
    "eventsfolder = dirs['Py_CorrectedTraces']\n",
    "eventsfolder = dirs['Py_CorrectedTraces']\n",
    "ATaCR_Parent = dirs['Py_DataParentFolder']\n",
    "catalog_full = pd.read_excel(str(project_path / '_DataArchive' / 'utilities' / 'Janiszewski_etal_2023_StationList.xlsx'))\n",
    "catalog = pd.read_pickle(eventsfolder + '/sta_catalog_proxima_test.pkl')\n",
    "# ---------------------------------------------------------------------------------------------------\n",
    "# ============================================ LOAD DATA ===========================================\n",
    "# ---------------------------------------------------------------------------------------------------\n",
    "catalog = pd.read_pickle(eventsfolder + '/event_catalog_updated.pkl')\n",
    "Station,evi = catalog.iloc[22],3\n",
    "Event = Station.Events[evi]\n",
    "# catalog = pd.read_pickle('/Users/charlesh/Documents/Codes/OBS_Methods/NOISE/METHODS/ATaCR/ATaCR_Python/Metrics/EVENTS/EventMetrics_using_STA_avgTFs.pkl')\n",
    "# catalog = pd.read_pickle('/Users/charlesh/Documents/Codes/OBS_Methods/NOISE/METHODS/ATaCR/ATaCR_Python/EVENTS/event_catalog_updated.pkl')\n",
    "# catalog = pd.read_pickle(eventsfolder + '/sta_catalog_evrecord_set_goodchans_updated.pkl')\n",
    "# catalog = catalog.drop(index=29)\n",
    "catalog = pd.read_pickle(eventsfolder + '/sta_catalog_proxima_test.pkl')\n",
    "# evaudit = ObsQA.io.audit_events(eventsfolder)\n",
    "evaudit = pd.read_pickle(Path(eventsfolder) / 'event_record_audit.pkl')"
   ]
  },
  {
   "cell_type": "code",
   "execution_count": 2,
   "metadata": {},
   "outputs": [
    {
     "data": {
      "text/html": [
       "\n",
       "            <style>\n",
       "                .geemap-dark {\n",
       "                    --jp-widgets-color: white;\n",
       "                    --jp-widgets-label-color: white;\n",
       "                    --jp-ui-font-color1: white;\n",
       "                    --jp-layout-color2: #454545;\n",
       "                    background-color: #383838;\n",
       "                }\n",
       "                    \n",
       "                .geemap-dark .jupyter-button {\n",
       "                    --jp-layout-color3: #383838;\n",
       "                }\n",
       "                \n",
       "                .geemap-colab {\n",
       "                    background-color: var(--colab-primary-surface-color, white);\n",
       "                }\n",
       "                    \n",
       "                .geemap-colab .jupyter-button {\n",
       "                    --jp-layout-color3: var(--colab-primary-surface-color, white);\n",
       "                }\n",
       "            </style>\n",
       "            "
      ],
      "text/plain": [
       "<IPython.core.display.HTML object>"
      ]
     },
     "metadata": {},
     "output_type": "display_data"
    }
   ],
   "source": [
    "st = read('/Users/charlesh/Documents/Codes/OBS_Methods/NOISE/ATACR_HPS_Comp/_DataArchive/ATaCR_Data/Depreciated_days.not.accurately.mapped.to.original/M07A.Tweak1/Data/7D.M07A/2011.348..HZ.SAC')"
   ]
  },
  {
   "cell_type": "code",
   "execution_count": 3,
   "metadata": {},
   "outputs": [
    {
     "data": {
      "text/html": [
       "\n",
       "            <style>\n",
       "                .geemap-dark {\n",
       "                    --jp-widgets-color: white;\n",
       "                    --jp-widgets-label-color: white;\n",
       "                    --jp-ui-font-color1: white;\n",
       "                    --jp-layout-color2: #454545;\n",
       "                    background-color: #383838;\n",
       "                }\n",
       "                    \n",
       "                .geemap-dark .jupyter-button {\n",
       "                    --jp-layout-color3: #383838;\n",
       "                }\n",
       "                \n",
       "                .geemap-colab {\n",
       "                    background-color: var(--colab-primary-surface-color, white);\n",
       "                }\n",
       "                    \n",
       "                .geemap-colab .jupyter-button {\n",
       "                    --jp-layout-color3: var(--colab-primary-surface-color, white);\n",
       "                }\n",
       "            </style>\n",
       "            "
      ],
      "text/plain": [
       "<IPython.core.display.HTML object>"
      ]
     },
     "metadata": {},
     "output_type": "display_data"
    },
    {
     "data": {
      "text/plain": [
       "1 Trace(s) in Stream:\n",
       "7D.M07A..HZ | 2011-12-14T00:00:00.000000Z - 2011-12-14T23:59:59.800000Z | 5.0 Hz, 432000 samples"
      ]
     },
     "execution_count": 3,
     "metadata": {},
     "output_type": "execute_result"
    }
   ],
   "source": [
    "st"
   ]
  },
  {
   "cell_type": "code",
   "execution_count": 4,
   "metadata": {},
   "outputs": [
    {
     "data": {
      "text/html": [
       "\n",
       "            <style>\n",
       "                .geemap-dark {\n",
       "                    --jp-widgets-color: white;\n",
       "                    --jp-widgets-label-color: white;\n",
       "                    --jp-ui-font-color1: white;\n",
       "                    --jp-layout-color2: #454545;\n",
       "                    background-color: #383838;\n",
       "                }\n",
       "                    \n",
       "                .geemap-dark .jupyter-button {\n",
       "                    --jp-layout-color3: #383838;\n",
       "                }\n",
       "                \n",
       "                .geemap-colab {\n",
       "                    background-color: var(--colab-primary-surface-color, white);\n",
       "                }\n",
       "                    \n",
       "                .geemap-colab .jupyter-button {\n",
       "                    --jp-layout-color3: var(--colab-primary-surface-color, white);\n",
       "                }\n",
       "            </style>\n",
       "            "
      ],
      "text/plain": [
       "<IPython.core.display.HTML object>"
      ]
     },
     "metadata": {},
     "output_type": "display_data"
    },
    {
     "data": {
      "text/plain": [
       "['2012.153',\n",
       " '2012.175',\n",
       " '2012.130',\n",
       " '2011.318',\n",
       " '2012.006',\n",
       " '2012.133',\n",
       " '2012.177',\n",
       " '2012.042',\n",
       " '2011.348',\n",
       " '2011.333',\n",
       " '2012.061',\n",
       " '2012.012',\n",
       " '2012.111',\n",
       " '2012.054',\n",
       " '2012.185']"
      ]
     },
     "execution_count": 4,
     "metadata": {},
     "output_type": "execute_result"
    }
   ],
   "source": [
    "fold = Path('/Users/charlesh/Documents/Codes/OBS_Methods/NOISE/ATACR_HPS_Comp/_DataArchive/ATaCR_Data/Depreciated_days.not.accurately.mapped.to.original/M07A.Tweak1/Data/7D.M07A')\n",
    "[f.name.replace('..HZ.SAC','') for f in list(fold.glob('*Z.SAC'))]\n",
    "\n",
    "['2012.153',\n",
    " '2012.175',\n",
    " '2012.130',\n",
    " '2011.318',\n",
    " '2012.006',\n",
    " '2012.133',\n",
    " '2012.177',\n",
    " '2012.042',\n",
    " '2011.348',\n",
    " '2011.333',\n",
    " '2012.061',\n",
    " '2012.012',\n",
    " '2012.111',\n",
    " '2012.054',\n",
    " '2012.185']"
   ]
  },
  {
   "cell_type": "code",
   "execution_count": 5,
   "metadata": {},
   "outputs": [
    {
     "data": {
      "text/html": [
       "\n",
       "            <style>\n",
       "                .geemap-dark {\n",
       "                    --jp-widgets-color: white;\n",
       "                    --jp-widgets-label-color: white;\n",
       "                    --jp-ui-font-color1: white;\n",
       "                    --jp-layout-color2: #454545;\n",
       "                    background-color: #383838;\n",
       "                }\n",
       "                    \n",
       "                .geemap-dark .jupyter-button {\n",
       "                    --jp-layout-color3: #383838;\n",
       "                }\n",
       "                \n",
       "                .geemap-colab {\n",
       "                    background-color: var(--colab-primary-surface-color, white);\n",
       "                }\n",
       "                    \n",
       "                .geemap-colab .jupyter-button {\n",
       "                    --jp-layout-color3: var(--colab-primary-surface-color, white);\n",
       "                }\n",
       "            </style>\n",
       "            "
      ],
      "text/plain": [
       "<IPython.core.display.HTML object>"
      ]
     },
     "metadata": {},
     "output_type": "display_data"
    },
    {
     "data": {
      "text/plain": [
       "[2011-11-06T00:00:00.000000Z,\n",
       " 2011-12-21T00:00:00.000000Z,\n",
       " 2011-12-23T00:00:00.000000Z,\n",
       " 2012-01-11T00:00:00.000000Z,\n",
       " 2012-02-06T00:00:00.000000Z,\n",
       " 2012-02-12T00:00:00.000000Z,\n",
       " 2012-04-13T00:00:00.000000Z,\n",
       " 2012-04-30T00:00:00.000000Z,\n",
       " 2012-06-01T00:00:00.000000Z,\n",
       " 2012-06-12T00:00:00.000000Z]"
      ]
     },
     "execution_count": 5,
     "metadata": {},
     "output_type": "execute_result"
    }
   ],
   "source": [
    "days = ['2011.310',\n",
    " '2011.355',\n",
    " '2011.357',\n",
    " '2012.011',\n",
    " '2012.037',\n",
    " '2012.043',\n",
    " '2012.104',\n",
    " '2012.121',\n",
    " '2012.153',\n",
    " '2012.164']\n",
    "days = [UTCDateTime.strptime(d,'%Y.%j') for d in days]\n",
    "days"
   ]
  },
  {
   "cell_type": "code",
   "execution_count": 14,
   "metadata": {},
   "outputs": [
    {
     "data": {
      "text/html": [
       "\n",
       "            <style>\n",
       "                .geemap-dark {\n",
       "                    --jp-widgets-color: white;\n",
       "                    --jp-widgets-label-color: white;\n",
       "                    --jp-ui-font-color1: white;\n",
       "                    --jp-layout-color2: #454545;\n",
       "                    background-color: #383838;\n",
       "                }\n",
       "                    \n",
       "                .geemap-dark .jupyter-button {\n",
       "                    --jp-layout-color3: #383838;\n",
       "                }\n",
       "                \n",
       "                .geemap-colab {\n",
       "                    background-color: var(--colab-primary-surface-color, white);\n",
       "                }\n",
       "                    \n",
       "                .geemap-colab .jupyter-button {\n",
       "                    --jp-layout-color3: var(--colab-primary-surface-color, white);\n",
       "                }\n",
       "            </style>\n",
       "            "
      ],
      "text/plain": [
       "<IPython.core.display.HTML object>"
      ]
     },
     "metadata": {},
     "output_type": "display_data"
    },
    {
     "data": {
      "text/plain": [
       "array(['2D', '7A', '7D', 'X9', 'XE', 'XF', 'XO', 'YL', 'YO', 'Z6', 'ZA',\n",
       "       'ZN'], dtype=object)"
      ]
     },
     "execution_count": 14,
     "metadata": {},
     "output_type": "execute_result"
    }
   ],
   "source": [
    "catalog.Network.unique()"
   ]
  },
  {
   "cell_type": "code",
   "execution_count": 15,
   "metadata": {},
   "outputs": [
    {
     "data": {
      "text/html": [
       "\n",
       "            <style>\n",
       "                .geemap-dark {\n",
       "                    --jp-widgets-color: white;\n",
       "                    --jp-widgets-label-color: white;\n",
       "                    --jp-ui-font-color1: white;\n",
       "                    --jp-layout-color2: #454545;\n",
       "                    background-color: #383838;\n",
       "                }\n",
       "                    \n",
       "                .geemap-dark .jupyter-button {\n",
       "                    --jp-layout-color3: #383838;\n",
       "                }\n",
       "                \n",
       "                .geemap-colab {\n",
       "                    background-color: var(--colab-primary-surface-color, white);\n",
       "                }\n",
       "                    \n",
       "                .geemap-colab .jupyter-button {\n",
       "                    --jp-layout-color3: var(--colab-primary-surface-color, white);\n",
       "                }\n",
       "            </style>\n",
       "            "
      ],
      "text/plain": [
       "<IPython.core.display.HTML object>"
      ]
     },
     "metadata": {},
     "output_type": "display_data"
    },
    {
     "data": {
      "text/html": [
       "<div>\n",
       "<style scoped>\n",
       "    .dataframe tbody tr th:only-of-type {\n",
       "        vertical-align: middle;\n",
       "    }\n",
       "\n",
       "    .dataframe tbody tr th {\n",
       "        vertical-align: top;\n",
       "    }\n",
       "\n",
       "    .dataframe thead th {\n",
       "        text-align: right;\n",
       "    }\n",
       "</style>\n",
       "<table border=\"1\" class=\"dataframe\">\n",
       "  <thead>\n",
       "    <tr style=\"text-align: right;\">\n",
       "      <th></th>\n",
       "      <th>23</th>\n",
       "    </tr>\n",
       "  </thead>\n",
       "  <tbody>\n",
       "    <tr>\n",
       "      <th>Station</th>\n",
       "      <td>M07A</td>\n",
       "    </tr>\n",
       "    <tr>\n",
       "      <th>Network</th>\n",
       "      <td>7D</td>\n",
       "    </tr>\n",
       "    <tr>\n",
       "      <th>Latitude</th>\n",
       "      <td>44.898701</td>\n",
       "    </tr>\n",
       "    <tr>\n",
       "      <th>Longitude</th>\n",
       "      <td>-125.116798</td>\n",
       "    </tr>\n",
       "    <tr>\n",
       "      <th>Experiment</th>\n",
       "      <td>CASCADIA INITIATIVE</td>\n",
       "    </tr>\n",
       "    <tr>\n",
       "      <th>Instrument_Design</th>\n",
       "      <td>AB</td>\n",
       "    </tr>\n",
       "    <tr>\n",
       "      <th>Seismometer</th>\n",
       "      <td>Trillium Compact</td>\n",
       "    </tr>\n",
       "    <tr>\n",
       "      <th>Environment</th>\n",
       "      <td>North Pacific</td>\n",
       "    </tr>\n",
       "    <tr>\n",
       "      <th>Pressure_Gauge</th>\n",
       "      <td>DPG</td>\n",
       "    </tr>\n",
       "    <tr>\n",
       "      <th>Water_Depth_m</th>\n",
       "      <td>1356.5</td>\n",
       "    </tr>\n",
       "    <tr>\n",
       "      <th>Distance_from_Land_km</th>\n",
       "      <td>66.0</td>\n",
       "    </tr>\n",
       "    <tr>\n",
       "      <th>Distance_to_Plate_Boundary_km</th>\n",
       "      <td>25.348</td>\n",
       "    </tr>\n",
       "    <tr>\n",
       "      <th>Sediment_Thickness_m</th>\n",
       "      <td>253.999954</td>\n",
       "    </tr>\n",
       "    <tr>\n",
       "      <th>Surface_Current_ms</th>\n",
       "      <td>0.024166</td>\n",
       "    </tr>\n",
       "    <tr>\n",
       "      <th>Crustal_Age_Myr</th>\n",
       "      <td>9.44</td>\n",
       "    </tr>\n",
       "    <tr>\n",
       "      <th>Start</th>\n",
       "      <td>2011-10-15 00:00:00</td>\n",
       "    </tr>\n",
       "    <tr>\n",
       "      <th>End</th>\n",
       "      <td>2012-07-15 23:59:59</td>\n",
       "    </tr>\n",
       "    <tr>\n",
       "      <th>Deployment_Length_days</th>\n",
       "      <td>275.0</td>\n",
       "    </tr>\n",
       "    <tr>\n",
       "      <th>Good_Channels</th>\n",
       "      <td>True</td>\n",
       "    </tr>\n",
       "    <tr>\n",
       "      <th>n_events</th>\n",
       "      <td>31</td>\n",
       "    </tr>\n",
       "    <tr>\n",
       "      <th>Magnitude_mw</th>\n",
       "      <td>[6.9, 7.0, 6.0, 6.3, 6.0, 7.0, 6.6, 6.5, 6.9, ...</td>\n",
       "    </tr>\n",
       "    <tr>\n",
       "      <th>Origin</th>\n",
       "      <td>[2011-11-08T02:59:08.670000Z, 2011-10-28T18:54...</td>\n",
       "    </tr>\n",
       "    <tr>\n",
       "      <th>Metadata</th>\n",
       "      <td>[[[resource_id, event_type, event_type_certain...</td>\n",
       "    </tr>\n",
       "    <tr>\n",
       "      <th>Averaging</th>\n",
       "      <td>Averaging    [sta, sta, sta, sta, sta, sta, st...</td>\n",
       "    </tr>\n",
       "    <tr>\n",
       "      <th>Events</th>\n",
       "      <td>[2011.312.02.59, 2011.301.18.54, 2012.190.11.3...</td>\n",
       "    </tr>\n",
       "    <tr>\n",
       "      <th>Files</th>\n",
       "      <td>[7D.M07A.2011.312.02.59.sta.pkl, 7D.M07A.2011....</td>\n",
       "    </tr>\n",
       "    <tr>\n",
       "      <th>Depth_KM</th>\n",
       "      <td>[228.2, 29.0, 37.7, 69.2, 16.0, 19.2, 117.7, 6...</td>\n",
       "    </tr>\n",
       "    <tr>\n",
       "      <th>Network_Experiment</th>\n",
       "      <td>[7D] CASCADIA INITIATIVE</td>\n",
       "    </tr>\n",
       "    <tr>\n",
       "      <th>StaName</th>\n",
       "      <td>7D.M07A</td>\n",
       "    </tr>\n",
       "  </tbody>\n",
       "</table>\n",
       "</div>"
      ],
      "text/plain": [
       "                                                                              23\n",
       "Station                                                                     M07A\n",
       "Network                                                                       7D\n",
       "Latitude                                                               44.898701\n",
       "Longitude                                                            -125.116798\n",
       "Experiment                                                   CASCADIA INITIATIVE\n",
       "Instrument_Design                                                             AB\n",
       "Seismometer                                                     Trillium Compact\n",
       "Environment                                                        North Pacific\n",
       "Pressure_Gauge                                                               DPG\n",
       "Water_Depth_m                                                             1356.5\n",
       "Distance_from_Land_km                                                       66.0\n",
       "Distance_to_Plate_Boundary_km                                             25.348\n",
       "Sediment_Thickness_m                                                  253.999954\n",
       "Surface_Current_ms                                                      0.024166\n",
       "Crustal_Age_Myr                                                             9.44\n",
       "Start                                                        2011-10-15 00:00:00\n",
       "End                                                          2012-07-15 23:59:59\n",
       "Deployment_Length_days                                                     275.0\n",
       "Good_Channels                                                               True\n",
       "n_events                                                                      31\n",
       "Magnitude_mw                   [6.9, 7.0, 6.0, 6.3, 6.0, 7.0, 6.6, 6.5, 6.9, ...\n",
       "Origin                         [2011-11-08T02:59:08.670000Z, 2011-10-28T18:54...\n",
       "Metadata                       [[[resource_id, event_type, event_type_certain...\n",
       "Averaging                      Averaging    [sta, sta, sta, sta, sta, sta, st...\n",
       "Events                         [2011.312.02.59, 2011.301.18.54, 2012.190.11.3...\n",
       "Files                          [7D.M07A.2011.312.02.59.sta.pkl, 7D.M07A.2011....\n",
       "Depth_KM                       [228.2, 29.0, 37.7, 69.2, 16.0, 19.2, 117.7, 6...\n",
       "Network_Experiment                                      [7D] CASCADIA INITIATIVE\n",
       "StaName                                                                  7D.M07A"
      ]
     },
     "execution_count": 15,
     "metadata": {},
     "output_type": "execute_result"
    }
   ],
   "source": [
    "catalog[catalog.Station=='M07A'].T"
   ]
  },
  {
   "cell_type": "code",
   "execution_count": 12,
   "metadata": {},
   "outputs": [
    {
     "data": {
      "text/html": [
       "\n",
       "            <style>\n",
       "                .geemap-dark {\n",
       "                    --jp-widgets-color: white;\n",
       "                    --jp-widgets-label-color: white;\n",
       "                    --jp-ui-font-color1: white;\n",
       "                    --jp-layout-color2: #454545;\n",
       "                    background-color: #383838;\n",
       "                }\n",
       "                    \n",
       "                .geemap-dark .jupyter-button {\n",
       "                    --jp-layout-color3: #383838;\n",
       "                }\n",
       "                \n",
       "                .geemap-colab {\n",
       "                    background-color: var(--colab-primary-surface-color, white);\n",
       "                }\n",
       "                    \n",
       "                .geemap-colab .jupyter-button {\n",
       "                    --jp-layout-color3: var(--colab-primary-surface-color, white);\n",
       "                }\n",
       "            </style>\n",
       "            "
      ],
      "text/plain": [
       "<IPython.core.display.HTML object>"
      ]
     },
     "metadata": {},
     "output_type": "display_data"
    }
   ],
   "source": [
    "catalog = catalog[catalog.Station=='M07A']\n",
    "ev_ind = np.where(np.array(catalog.iloc[0].Events)=='2012.181.21.07')[0][0]\n",
    "catalog.Origin = [[catalog.Origin.iloc[0][ev_ind]]]\n",
    "catalog.Metadata = [[catalog.Metadata.iloc[0][ev_ind]]]\n",
    "catalog.Magnitude_mw = [[catalog.Magnitude_mw.iloc[0][ev_ind]]]\n",
    "catalog.Events = [[catalog.Events.iloc[0][ev_ind]]]\n",
    "catalog.Files = [[catalog.Files.iloc[0][ev_ind]]]\n",
    "catalog.Depth_KM = [[catalog.Depth_KM.iloc[0][ev_ind]]]"
   ]
  },
  {
   "cell_type": "code",
   "execution_count": 14,
   "metadata": {},
   "outputs": [
    {
     "data": {
      "text/html": [
       "\n",
       "            <style>\n",
       "                .geemap-dark {\n",
       "                    --jp-widgets-color: white;\n",
       "                    --jp-widgets-label-color: white;\n",
       "                    --jp-ui-font-color1: white;\n",
       "                    --jp-layout-color2: #454545;\n",
       "                    background-color: #383838;\n",
       "                }\n",
       "                    \n",
       "                .geemap-dark .jupyter-button {\n",
       "                    --jp-layout-color3: #383838;\n",
       "                }\n",
       "                \n",
       "                .geemap-colab {\n",
       "                    background-color: var(--colab-primary-surface-color, white);\n",
       "                }\n",
       "                    \n",
       "                .geemap-colab .jupyter-button {\n",
       "                    --jp-layout-color3: var(--colab-primary-surface-color, white);\n",
       "                }\n",
       "            </style>\n",
       "            "
      ],
      "text/plain": [
       "<IPython.core.display.HTML object>"
      ]
     },
     "metadata": {},
     "output_type": "display_data"
    }
   ],
   "source": [
    "dateformat = '%Y.%j.%H.%M'"
   ]
  },
  {
   "cell_type": "code",
   "execution_count": null,
   "metadata": {},
   "outputs": [],
   "source": [
    "## ===============================================================================\n",
    "## STEPS = [1,2,3,4,5,6,7] ##Absolutely every step - Downloading adds hour(s) or more to the process\n",
    "## STEPS = [2,3] ##Everything but the download steps - About 4min for six stations.\n",
    "## STEPS = [4,5,6,7] ##Everything but the download steps - About 4min for six stations\n",
    "## -------------------------------------------------------\n",
    "## Step-1: Station Metadata. Step a0 in ML-ATaCR. Always run this.\n",
    "## Step-2: Download event data. Step a3 in ML-ATaCR.\n",
    "## Step-3: Download day data. Step a2 in ML-ATaCR.\n",
    "## Step-4: Daily Spectra. Step b1 in ML-ATaCR.\n",
    "## Step-5: Clean and Average Daily Spectra. Step b2 in ML-ATaCR.\n",
    "## Step-6: Calculate transfer functions. Step b3 ML-ATaCR.\n",
    "## Step-7: Correct events. Step b4 in ML-ATaCR.\n",
    "## ===============================================================================\n",
    "## ===============================================================================\n",
    "\n",
    "cat = catalog.copy()\n",
    "display(cat)\n",
    "event_mode = True\n",
    "Minmag,Maxmag=6.0,8.0\n",
    "fork = True\n",
    "STEPS = [3,4,5]\n",
    "## =============================================================================== ## =============================================================================== ##\n",
    "## =============================================================================== ## =============================================================================== ##\n",
    "## =============================================================================== ## =============================================================================== ##\n",
    "for STEP in STEPS:\n",
    "    if STEP==-3:\n",
    "        NoiseFolder = dirs['Py_RawDayData']\n",
    "        print('Day Noise While Loop Mode')\n",
    "        ObsQA.TOOLS.io.DayNoiseWhileLoop(cat,NoiseFolder,ATaCR_Parent,days=10,attempts=100)\n",
    "    for ii,Station in enumerate(cat.iloc):\n",
    "        ## StaFolder = Path(dirs['Py_RawDayData']) / Station.StaName\n",
    "        ## Files = list(StaFolder.glob('*.SAC'))\n",
    "        staname = Station.StaName\n",
    "        subfolder = staname + '/'\n",
    "        print('[//////////////////////////]'*2)\n",
    "        print('----Station: ' + staname +  ' (' + str(ii+1) + ' of ' + str(len(cat)) + ')')\n",
    "        icatalog = Station.to_frame().T\n",
    "        print('[//////////////////////////]'*2)\n",
    "        ObsQA.TOOLS.io.Run_ATaCR(icatalog,days=days,fork=fork,event_mode=event_mode, ATaCR_Parent = ATaCR_Parent,STEPS=[STEP],log_prefix=Station.StaName,Minmag=Minmag,Maxmag=Maxmag)\n",
    "        if event_mode & (STEP==3):\n",
    "            Origins = Station.Origin\n",
    "            Starts = Origins\n",
    "            if isinstance(Origins[0],obspy.core.event.origin.Origin):\n",
    "                    Starts = [e.time for e in Origins]\n",
    "            dateformat = '%Y.%j.%H.%M'\n",
    "            hps_data_folder = (Path(dirs['Py_RawDayData']) / Station.StaName / 'HPS_Data')\n",
    "            hps_data_folder.mkdir(exist_ok=True)\n",
    "            days = list(np.unique([s.strftime('%Y.%j') for s in Starts]))\n",
    "            [[shutil.move(fi,hps_data_folder / fi.name) for fi in list((Path(dirs['Py_RawDayData']) / Station.StaName).glob(d + '*.SAC'))] for d in days]\n",
    "            # shutil.\n",
    "        print('....done')\n",
    "## =============================================================================== ## =============================================================================== ##\n",
    "## =============================================================================== ## =============================================================================== ##\n",
    "## =============================================================================== ## =============================================================================== ##"
   ]
  }
 ],
 "metadata": {
  "kernelspec": {
   "display_name": "Seismic_Noise_Data_Obspy_ML_NN",
   "language": "python",
   "name": "python3"
  },
  "language_info": {
   "codemirror_mode": {
    "name": "ipython",
    "version": 3
   },
   "file_extension": ".py",
   "mimetype": "text/x-python",
   "name": "python",
   "nbconvert_exporter": "python",
   "pygments_lexer": "ipython3",
   "version": "3.8.16"
  },
  "orig_nbformat": 4
 },
 "nbformat": 4,
 "nbformat_minor": 2
}
