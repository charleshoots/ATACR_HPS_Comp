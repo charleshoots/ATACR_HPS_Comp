{
 "cells": [
  {
   "cell_type": "markdown",
   "metadata": {},
   "source": [
    "### Note: I somehow deleted one of your comments accidentally when moving these cells around in VSCode. \n",
    "\n",
    "> I'm still figuring out how this platform works but I think it might be good practice to just make a new notebook each week. \n",
    "\n",
    "> All prior week's notebooks will be kept on the repo and referenced (with links) at the top of the latest notebook. \n",
    "\n",
    "> I'll send you a link on Slack for the notebook of that week when its available. \n",
    "\n",
    "> This will allow comments in prior notebooks to never get accidentally deleted like I just did apparently..."
   ]
  },
  {
   "cell_type": "markdown",
   "metadata": {},
   "source": [
    "## Previous Notebooks: \n",
    "> ##### 1.  [Week of 7.29.24](https://app.reviewnb.com/charleshoots/ATACR_HPS_Comp/blob/main/Cookbook.ipynb)"
   ]
  },
  {
   "cell_type": "markdown",
   "metadata": {},
   "source": [
    "## Issues to be adressed from previous week\n",
    "___\n",
    "> ####  1. Unusual double peak in phase and amplitudes in admittance.\n",
    "> ####  2. Seismic spectra plots not consistent with OBSIC/MUSTANG.\n",
    "> ####  3. Pressure spectra plots not consistent with OBSIC.\n",
    "> ####  4. Event corrections "
   ]
  },
  {
   "cell_type": "markdown",
   "metadata": {},
   "source": [
    "___\n",
    "> ##  Issue-1 : Unusual double peak in phase and amplitudes in admittance.\n",
    "___"
   ]
  },
  {
   "cell_type": "markdown",
   "metadata": {},
   "source": [
    "[Following your comment on phase and admittance issues](https://app.reviewnb.com/charleshoots/ATACR_HPS_Comp/blob/main/Cookbook.ipynb/file/#comment-nb-9f36807f)"
   ]
  },
  {
   "cell_type": "markdown",
   "metadata": {},
   "source": [
    "![Original.Coh.Adm.Ph.png](znb_images/Original.Coh.Adm.Ph.png)"
   ]
  },
  {
   "cell_type": "markdown",
   "metadata": {},
   "source": [
    "> This phase and admittance issue is a result of all but one day having had inhad instrument response outputs set to velocity rather than displacement. I explored filters and water levels applied before I narrowed down to this following your comment. \n",
    "\n",
    "> Testing this theory, I reproduced the original results (below) by manually setting the output units to 'VEL'. \n",
    "\n",
    "> The reproduction of the error appears to be identical.\n",
    "\n",
    "> I don't know how this happened. This data was downloaded back in February and maybe something was accidentally set wrong back then. I need to confirm this isn't the case on other stations, though it's likely just quicker to re-download everything."
   ]
  },
  {
   "cell_type": "markdown",
   "metadata": {},
   "source": [
    "![Reproduced.PhaseAdm.Issue](znb_images/Reproduced.Phase.Issue_7D.M07A.av_phase.png)"
   ]
  },
  {
   "cell_type": "markdown",
   "metadata": {},
   "source": [
    "> Further confirmation on this issue is found by re-making this figure (below) after setting outputs to displacement as they should have always been.\n",
    "\n",
    "> I'm not still sure what to make of the admittance amplitudes yet. The values would make more sense for Pa/m than m/Pa."
   ]
  },
  {
   "cell_type": "markdown",
   "metadata": {},
   "source": [
    "![CorrectedPhaseAdmIssue](znb_images/Corrected.Phase.Issue_7D.M07A.av_phase.png)"
   ]
  },
  {
   "cell_type": "markdown",
   "metadata": {},
   "source": [
    "![Bell2015Figs](znb_images/Bell2015Figs.png)"
   ]
  },
  {
   "cell_type": "markdown",
   "metadata": {},
   "source": [
    "> Admittance is still an issue but I wonder if it's a matter of the admittance Z-to-P and not P-to-Z. This would make alot of sense given that's what the code shows that it is doing and, if so, would map more consistently with published and predicted admittance for this station depth.\n",
    "\n",
    "> Bell et. al. 2015 shows admittance for this station and predicted Rg transfer function at the inverse of these amplitudes, so. I need to dig more to confirm this though, it may be the case that admittance is fine here.\n"
   ]
  },
  {
   "cell_type": "markdown",
   "metadata": {},
   "source": [
    "___\n",
    "> ##  Issues 2 and 3 : Pressure and Seismic spectra plots not consistent with OBSIC/MUSTANG\n",
    "___"
   ]
  },
  {
   "cell_type": "markdown",
   "metadata": {},
   "source": [
    "[Following your comment on spectra amplitudes](https://app.reviewnb.com/charleshoots/ATACR_HPS_Comp/blob/main/Cookbook.ipynb/file/#comment-nb-23a217e0)"
   ]
  },
  {
   "cell_type": "markdown",
   "metadata": {},
   "source": [
    "![Figure](znb_images/AVG.Spectra.Comparisons.png)"
   ]
  },
  {
   "cell_type": "markdown",
   "metadata": {},
   "source": [
    ">> This was close but couldn't finish it. \n",
    "\n",
    ">> Ran out of time this week to finish this.\n",
    "\n",
    ">> That said, with the units now defined correctly in response removal (issue-1, above), with log-diff on displacement (using the 10*2*pi*log(2*pi*f) eq. you gave me), we yield PSD for acceleration that we can then safely compare with OBSIC and MUSTANG figures."
   ]
  },
  {
   "cell_type": "markdown",
   "metadata": {},
   "source": [
    "![M07A_comp_w_WD55](znb_images/M07A_comp_w_WD55.png)"
   ]
  },
  {
   "cell_type": "markdown",
   "metadata": {},
   "source": [
    ">> The notebook this week really wasn't ready to be shown as a finished state but it's what I managed. \n",
    "\n",
    "____\n",
    ">> #### That said, in terms of things still left to be done from tasks this week:\n",
    "\n",
    "> 1. It's easy from this point to verify the plots of spectra are correct beyond just this one station. \n",
    "\n",
    "> 2. Admittance is still an issue. Granted, I wonder if it's a matter of the admittance Z-to-P and not P-to-Z as I say above."
   ]
  },
  {
   "cell_type": "markdown",
   "metadata": {},
   "source": [
    "___\n",
    "\n",
    "[Following your comment on plot ylims and data parity](https://app.reviewnb.com/charleshoots/ATACR_HPS_Comp/blob/main/Cookbook.ipynb/file/#comment-nb-cedcb5a4)\n",
    ">> Ran out of time this week to do this too."
   ]
  },
  {
   "cell_type": "markdown",
   "metadata": {},
   "source": [
    "![Figure](znb_images/TestsSummary.png)"
   ]
  },
  {
   "cell_type": "markdown",
   "metadata": {},
   "source": [
    "<>"
   ]
  },
  {
   "cell_type": "markdown",
   "metadata": {},
   "source": [
    "___\n",
    "> ##  Issue-4 : Event corrections\n",
    "___"
   ]
  },
  {
   "cell_type": "markdown",
   "metadata": {},
   "source": [
    "[Following your comment on event corrections](https://app.reviewnb.com/charleshoots/ATACR_HPS_Comp/blob/main/Cookbook.ipynb/file/#comment-nb-e92e9410)\n",
    "\n",
    ">> Ran out of time this week to do this too."
   ]
  },
  {
   "cell_type": "markdown",
   "metadata": {},
   "source": [
    "![Figure](znb_images/7D.M07A.transfer_functions_Taper1.png)\n",
    "\n",
    "\n",
    "![Figure](znb_images/7D.M07A.2012.181.21.07.sta_corrected.png)"
   ]
  }
 ],
 "metadata": {
  "language_info": {
   "name": "python"
  }
 },
 "nbformat": 4,
 "nbformat_minor": 2
}
